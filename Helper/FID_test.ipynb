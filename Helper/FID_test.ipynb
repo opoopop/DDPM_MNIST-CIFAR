{
 "cells": [
  {
   "cell_type": "code",
   "execution_count": 15,
   "metadata": {},
   "outputs": [
    {
     "name": "stdout",
     "output_type": "stream",
     "text": [
      "Image size: (28, 28)\n",
      "Image mode: RGB\n"
     ]
    }
   ],
   "source": [
    "from PIL import Image\n",
    "img = Image.open(f\"/home/chunjie/DdpmClassifierTest/MNIST/generated_images/image0/image_0.png\")\n",
    "print(f\"Image size: {img.size}\")  # 输出图片分辨率，如 (28, 28)\n",
    "print(f\"Image mode: {img.mode}\")  # 输出图片模式，如 'L' 表示灰度图\n",
    "\n"
   ]
  },
  {
   "cell_type": "code",
   "execution_count": 8,
   "metadata": {},
   "outputs": [],
   "source": [
    "import os\n",
    "import torchvision.datasets as datasets\n",
    "\n",
    "# 目录\n",
    "os.makedirs(\"mnist_images\", exist_ok=True)\n",
    "\n",
    "# 加载数据集\n",
    "dataset = datasets.MNIST(root=\"./data\", train=True, download=False)\n",
    "\n",
    "# 保存图片\n",
    "\n",
    "for i, (img, _) in enumerate(dataset):\n",
    "    img = img.convert(\"RGB\")\n",
    "    img.save(f\"mnist_images/{i}.png\")  # PNG 格式\n",
    "\n"
   ]
  },
  {
   "cell_type": "code",
   "execution_count": 17,
   "metadata": {},
   "outputs": [],
   "source": [
    "for i in range(1000):\n",
    "    img=Image.open(f'/home/chunjie/DdpmClassifierTest/MNIST/generated_images/image1/image_{i}.png')\n",
    "    img_rgb = img.convert(\"RGB\")  # 丢弃透明通道\n",
    "    img_rgb.save(f'/home/chunjie/DdpmClassifierTest/MNIST/generated_images/image1/image_{i}.png')\n"
   ]
  },
  {
   "cell_type": "code",
   "execution_count": 18,
   "metadata": {},
   "outputs": [
    {
     "name": "stderr",
     "output_type": "stream",
     "text": [
      "100%|███████████████████████████████████████████████████████████████████████████████████████████████████████████████████████████████████████████████████████████████████████████| 20/20 [00:00<00:00, 22.88it/s]\n",
      "100%|███████████████████████████████████████████████████████████████████████████████████████████████████████████████████████████████████████████████████████████████████████| 1200/1200 [00:49<00:00, 24.12it/s]\n"
     ]
    },
    {
     "name": "stdout",
     "output_type": "stream",
     "text": [
      "FID Score: 118.72263119181801\n"
     ]
    }
   ],
   "source": [
    "from pytorch_fid import fid_score\n",
    "import torch\n",
    "# 真实图片路径\n",
    "real_images_path = \"/home/chunjie/DdpmClassifierTest/MNIST/generated_images/image1\"\n",
    "\n",
    "# 生成图片路径\n",
    "fake_images_path = \"./mnist_images\"\n",
    "\n",
    "# 计算 FID\n",
    "fid_value = fid_score.calculate_fid_given_paths(\n",
    "    paths=[real_images_path, fake_images_path],  # 图片文件夹路径\n",
    "    batch_size=50,                              # 每次处理的图片数量\n",
    "    device=\"cuda\" if torch.cuda.is_available() else \"cpu\",  # 使用 GPU 或 CPU\n",
    "    dims=2048                                   # InceptionV3 模型输出的特征维度\n",
    ")\n",
    "\n",
    "print(f\"FID Score: {fid_value}\")\n"
   ]
  }
 ],
 "metadata": {
  "kernelspec": {
   "display_name": "Python 3 (ipykernel)",
   "language": "python",
   "name": "python3"
  },
  "language_info": {
   "codemirror_mode": {
    "name": "ipython",
    "version": 3
   },
   "file_extension": ".py",
   "mimetype": "text/x-python",
   "name": "python",
   "nbconvert_exporter": "python",
   "pygments_lexer": "ipython3",
   "version": "3.8.10"
  }
 },
 "nbformat": 4,
 "nbformat_minor": 2
}
