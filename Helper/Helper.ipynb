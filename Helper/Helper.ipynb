{
 "cells": [
  {
   "cell_type": "code",
   "execution_count": null,
   "metadata": {},
   "outputs": [],
   "source": [
    "import os\n",
    "\n",
    "def count_images_in_path(directory):\n",
    "    \"\"\"\n",
    "    统计指定路径及其子目录下的图片文件数量。\n",
    "\n",
    "    Args:\n",
    "        directory (str): 文件夹路径。\n",
    "\n",
    "    Returns:\n",
    "        int: 图片文件的总数量。\n",
    "    \"\"\"\n",
    "    # 支持的图片文件扩展名\n",
    "    valid_extensions = {\".jpg\", \".jpeg\", \".png\", \".bmp\", \".tiff\", \".gif\"}\n",
    "    \n",
    "    # 初始化图片计数\n",
    "    image_count = 0\n",
    "\n",
    "    # 遍历目录及其子目录\n",
    "    for root, _, files in os.walk(directory):\n",
    "        for file in files:\n",
    "            # 检查文件扩展名是否为有效图片格式\n",
    "            if os.path.splitext(file)[1].lower() in valid_extensions:\n",
    "                image_count += 1\n",
    "    \n",
    "    return image_count\n",
    "\n",
    "# 示例使用\n",
    "directory_path = \"/home/chunjie/DdpmClassifierTest/MNIST/generated_images/image0\"  # 替换为你的路径\n",
    "total_images = count_images_in_path(directory_path)\n",
    "print(f\"路径 '{directory_path}' 下的图片数量为: {total_images}\")\n"
   ]
  },
  {
   "cell_type": "code",
   "execution_count": null,
   "metadata": {},
   "outputs": [],
   "source": [
    "def show_image(image_path, figsize=(3, 3)):\n",
    "    \"\"\"\n",
    "    加载并展示指定路径下的图片，并调整显示大小。\n",
    "\n",
    "    参数:\n",
    "        image_path (str): 图片的路径。\n",
    "        figsize (tuple): 图像显示的大小，格式为 (宽度, 高度)，默认为 (3, 3)。\n",
    "    \"\"\"\n",
    "    # 加载图片\n",
    "    image = Image.open(image_path)\n",
    "\n",
    "    # 设置图像显示大小\n",
    "    plt.figure(figsize=figsize)\n",
    "\n",
    "    # 展示图片\n",
    "    plt.imshow(image)\n",
    "    plt.axis('off')  # 不显示坐标轴\n",
    "    plt.show()"
   ]
  }
 ],
 "metadata": {
  "kernelspec": {
   "display_name": "Python 3 (ipykernel)",
   "language": "python",
   "name": "python3"
  }
 },
 "nbformat": 4,
 "nbformat_minor": 2
}
